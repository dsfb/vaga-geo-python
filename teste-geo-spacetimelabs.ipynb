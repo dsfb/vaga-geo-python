{
 "cells": [
  {
   "cell_type": "markdown",
   "metadata": {},
   "source": [
    "# Spacetime Labs\n",
    "\n",
    "## Vaga - Desenvolvedor Python (Geo)\n",
    "\n",
    "Estamos procurando desenvolvedores Python que tenham conhecimento de geoprocessamento para fazer parte do nosso time."
   ]
  },
  {
   "cell_type": "markdown",
   "metadata": {},
   "source": [
    "Nessa provinha a gente vai pedir para você implementar algumas funções relacionadas a geoprocessamento.\n",
    "\n",
    "Esse [Jupyter Notebook](http://jupyter.org/) esta incompleto, nós deixamos a assinatura de alguns funções que esperamos que você seja capaz de implementar. Todas as funções possuem na _docstring_ o que esperamos que ela faça e o retorno dela. Fique tranquilo caso não consiga implementar todas as funções. Dúvidas durante o processo são bem vindas e nós gostamos de ajudar uns aos outros. Acreditamos que saber aquirir conhecimentos novos é fundamentar e que perguntar faz parte desse processo.\n",
    "\n",
    "As células que iniciam com `## !!!` são células de código que nós executamos suas funções para verificar se esta tudo certo. Por favor não edite elas. Se alguma assertiva nessa células falhar por favor revise seu código, e em caso de dúvidas estamos a disposição."
   ]
  },
  {
   "cell_type": "markdown",
   "metadata": {},
   "source": [
    "## Sobre os dados\n",
    "\n",
    "Ao lado desse desse Jupyter Notebook tem uma pasta chamada `data` com\n",
    "uma cena do [Landsat 8](https://landsat.usgs.gov/landsat-8). As cenas do Landsat 8 são compostas de vários arquivos [GeoTIFF](https://en.wikipedia.org/wiki/GeoTIFF), uma para cada banda da imagem ótima registrada pelos sensores no satélite. Você pode consultar mais informações sobre as bandas na página [What are the band designations for the Landsat satellites?\n",
    "](https://landsat.usgs.gov/what-are-band-designations-landsat-satellites) do site da USGS.\n",
    "\n",
    "![Landsat Spectral Bands](https://landsat.usgs.gov/sites/default/files/images/LandsatSpectralBands_20160801.jpg)"
   ]
  },
  {
   "cell_type": "code",
   "execution_count": null,
   "metadata": {},
   "outputs": [],
   "source": [
    "# Bora fazer o download e extrair os dados para começar a brincar?\n",
    "!wget --continue https://s3-us-west-2.amazonaws.com/spacetimeanalytics-satms-test/LC82220762018199LGN00_SREFLECTANCE.tar.gz -O ./data/LC82220762018199LGN00.tar.gz\n",
    "!tar -C ./data -xvf ./data/LC82220762018199LGN00.tar.gz"
   ]
  },
  {
   "cell_type": "code",
   "execution_count": null,
   "metadata": {},
   "outputs": [],
   "source": [
    "# algumas bibliotecas que podem ajudar\n",
    "!pip install -r requirements.txt > /dev/null\n",
    "import numpy as np\n",
    "import gdal\n",
    "import pyproj\n",
    "\n",
    "# ... mas fique a vontade para adicionar mais bibliotecas\n",
    "# pip install <biblioteca-adicional-que-eu-usei>\n",
    "# import biblioteca_adicional_que_eu_usei"
   ]
  },
  {
   "cell_type": "markdown",
   "metadata": {},
   "source": [
    "## 1ª Parte\n",
    "\n",
    "Nós precisamos abrir os arquivos GeoTIFFs das bandas `red` (vermelho) e `nir` (infra-vermelho) em memória para realizar algumas operações."
   ]
  },
  {
   "cell_type": "code",
   "execution_count": null,
   "metadata": {},
   "outputs": [],
   "source": [
    "# substitua o X abaixo pelo número certo da banda\n",
    "red_band_filepath = './data/LC82220762018199LGN00_BX.TIF'\n",
    "nir_band_filepath = './data/LC82220762018199LGN00_BX.TIF'"
   ]
  },
  {
   "cell_type": "code",
   "execution_count": null,
   "metadata": {},
   "outputs": [],
   "source": [
    "# esse link pode ajudar: https://pcjericks.github.io/py-gdalogr-cookbook/raster_layers.html\n",
    "\n",
    "def read_raster(filepath):\n",
    "    \"\"\"Você deve ler o arquivo especificado e retorna um numpy.ndarray do tipo float.\n",
    "    \n",
    "    Esses geotiffs têm sempre uma banda só dentro deles.\n",
    "    O tipo de dado dos arquivos é UInt16, mas esperamos que essa função retorna um ndarray\n",
    "    do tipo float (para converter faça arr / 2 ** 16).\n",
    "    \"\"\"\n",
    "    pass"
   ]
  },
  {
   "cell_type": "code",
   "execution_count": null,
   "metadata": {},
   "outputs": [],
   "source": [
    "## !!! Não edite essa célula, por favor ;D\n",
    "red = read_raster(red_band_filepath)\n",
    "nir = read_raster(nir_band_filepath)\n",
    "assert abs(np.mean(red) - 0.02034) < 0.001, np.mean(red)\n",
    "assert abs(np.mean(nir) - 0.06650) < 0.001, np.mean(nir)"
   ]
  },
  {
   "cell_type": "markdown",
   "metadata": {},
   "source": [
    "## 2ª Parte\n",
    "\n",
    "Na célula acima nós usamos sua função `read_raster` para salvar nas\n",
    "variáveis `red` e `nir` os valores dos arquivos GeoTIFF.\n",
    "\n",
    "Agora nós precisamos usar esses valores para calcular o\n",
    "[NDVI (Normalized Difference Vegetation Index)](https://en.wikipedia.org/wiki/Normalized_difference_vegetation_index). A fórmula do NDVI é:\n",
    "\n",
    "$NDVI = \\dfrac{NIR - RED}{NIR + RED}$"
   ]
  },
  {
   "cell_type": "code",
   "execution_count": null,
   "metadata": {},
   "outputs": [],
   "source": [
    "def calc_ndvi(r, n):\n",
    "    pass"
   ]
  },
  {
   "cell_type": "code",
   "execution_count": null,
   "metadata": {},
   "outputs": [],
   "source": [
    "## !!! Não edite essa célula, por favor ;D\n",
    "ndvi = np.nanmean(calc_ndvi(red, nir))\n",
    "assert abs(np.mean(ndvi) - 0.5206) < 0.001, np.mean(ndvi)"
   ]
  },
  {
   "cell_type": "markdown",
   "metadata": {},
   "source": [
    "## 3º Parte\n",
    "\n",
    "Converter um par de coordenadas que estão na projeção EPSG:32622 para a projeção EPSG:4326."
   ]
  },
  {
   "cell_type": "code",
   "execution_count": null,
   "metadata": {},
   "outputs": [],
   "source": [
    "# dica: a função pyproj.transform pode te ajudar\n",
    "# https://jswhit.github.io/pyproj/pyproj-module.html#transform\n",
    "\n",
    "def transform(x, y):\n",
    "    pass\n",
    "\n",
    "source_y, source_x = 526925.7, -2540960.9\n",
    "target_y, target_x = transform(source_y, source_x)"
   ]
  },
  {
   "cell_type": "code",
   "execution_count": null,
   "metadata": {},
   "outputs": [],
   "source": [
    "## !!! Não edite essa célula, por favor ;D\n",
    "assert abs(target_x - -22.9766669) < 0.0001\n",
    "assert abs(target_y - -50.7373086) < 0.0001"
   ]
  }
 ],
 "metadata": {
  "kernelspec": {
   "display_name": "Python 3",
   "language": "python",
   "name": "python3"
  },
  "language_info": {
   "codemirror_mode": {
    "name": "ipython",
    "version": 3
   },
   "file_extension": ".py",
   "mimetype": "text/x-python",
   "name": "python",
   "nbconvert_exporter": "python",
   "pygments_lexer": "ipython3",
   "version": "3.6.5"
  }
 },
 "nbformat": 4,
 "nbformat_minor": 2
}
